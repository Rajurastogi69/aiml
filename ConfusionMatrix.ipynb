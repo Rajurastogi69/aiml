{
 "cells": [
  {
   "cell_type": "code",
   "execution_count": 1,
   "id": "8596db02-085d-443e-99ce-1fc6f97df770",
   "metadata": {},
   "outputs": [],
   "source": [
    "import numpy as np\n",
    "from sklearn.metrics import confusion_matrix"
   ]
  },
  {
   "cell_type": "code",
   "execution_count": 2,
   "id": "675a807a-253c-4c1e-ba54-4103a91ddb15",
   "metadata": {},
   "outputs": [],
   "source": [
    "#creating actual and predicted data in the form of array"
   ]
  },
  {
   "cell_type": "code",
   "execution_count": 3,
   "id": "1bf350c3-302d-4afc-8ec0-c26fd16ef97c",
   "metadata": {},
   "outputs": [],
   "source": [
    "actual=np.array(['Mango','Mango', 'Mango', 'Not Mango','Not Mango','Mango'])"
   ]
  },
  {
   "cell_type": "code",
   "execution_count": 4,
   "id": "ef97011c-cdf9-46b1-88cc-f303f34bfdfd",
   "metadata": {},
   "outputs": [],
   "source": [
    "predicted=np.array(['Mango','Not Mango','Mango','Not Mango','Mango','Mango'])"
   ]
  },
  {
   "cell_type": "code",
   "execution_count": 5,
   "id": "22401675-517d-4ca4-a6bf-5928121eb294",
   "metadata": {},
   "outputs": [],
   "source": [
    "# creating variable for confusion matrix"
   ]
  },
  {
   "cell_type": "code",
   "execution_count": 6,
   "id": "7e57ce81-c90e-4e58-8d93-d8c418bfe2e2",
   "metadata": {},
   "outputs": [],
   "source": [
    "cm = confusion_matrix(actual,predicted)"
   ]
  },
  {
   "cell_type": "code",
   "execution_count": 7,
   "id": "9c90d3ad-dac6-4322-8401-170b0f392208",
   "metadata": {},
   "outputs": [],
   "source": [
    "# To visualize cm we need to use seaborn library"
   ]
  },
  {
   "cell_type": "code",
   "execution_count": 8,
   "id": "0005510f-be99-4c7b-a9d9-1f11cd0101fa",
   "metadata": {},
   "outputs": [],
   "source": [
    "import matplotlib.pyplot as plt"
   ]
  },
  {
   "cell_type": "code",
   "execution_count": 9,
   "id": "813b9ce3-3827-499a-af2b-61d8c1fb5340",
   "metadata": {},
   "outputs": [],
   "source": [
    "import seaborn as sns"
   ]
  },
  {
   "cell_type": "code",
   "execution_count": 10,
   "id": "849a976c-1137-4371-bb81-ccf62811c965",
   "metadata": {},
   "outputs": [
    {
     "data": {
      "image/png": "[encoded data removed]",
      "text/plain": [
       "<Figure size 432x288 with 2 Axes>"
      ]
     },
     "metadata": {
      "needs_background": "light"
     },
     "output_type": "display_data"
    }
   ],
   "source": [
    "sns.heatmap(cm, annot=True,\n",
    "            xticklabels=['Mango', 'Not Mango'],\n",
    "            yticklabels=['Mango', 'Not Mango'], cmap=\"Reds\")\n",
    "plt.xlabel('Actual',fontsize=12)\n",
    "plt.ylabel('Predicted',fontsize=12)\n",
    "plt.title('Confusion Matrix',fontsize=17)\n",
    "plt.show()0                             "
   ]
  },
  {
   "cell_type": "code",
   "execution_count": null,
   "id": "376f848e-d191-451a-82b6-92591a59329b",
   "metadata": {},
   "outputs": [],
   "source": []
  }
 ],
 "metadata": {
  "kernelspec": {
   "display_name": "Python 3 (ipykernel)",
   "language": "python",
   "name": "python3"
  },
  "language_info": {
   "codemirror_mode": {
    "name": "ipython",
    "version": 3
   },
   "file_extension": ".py",
   "mimetype": "text/x-python",
   "name": "python",
   "nbconvert_exporter": "python",
   "pygments_lexer": "ipython3",
   "version": "3.9.12"
  }
 },
 "nbformat": 4,
 "nbformat_minor": 5
}
