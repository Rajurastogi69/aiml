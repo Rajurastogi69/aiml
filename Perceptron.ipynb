{
 "cells": [
  {
   "cell_type": "code",
   "execution_count": 3,
   "id": "0be8256e-431c-4f9b-8819-8600103dda7f",
   "metadata": {},
   "outputs": [
    {
     "name": "stdout",
     "output_type": "stream",
     "text": [
      "[0 1 1 1]\n"
     ]
    }
   ],
   "source": [
    "import numpy as np\n",
    "\n",
    "class Perceptron:\n",
    "    def __init__(self, learning_rate=0.01, n_iterations=3):  # corrected: __init__\n",
    "        self.learning_rate = learning_rate\n",
    "        self.n_iterations = n_iterations\n",
    "        self.weights = None\n",
    "        self.bias = None\n",
    "\n",
    "    def fit(self, X, y):\n",
    "        n_samples, n_features = X.shape\n",
    "        self.weights = np.zeros(n_features)\n",
    "        self.bias = 0\n",
    "\n",
    "        y_ = np.array([1 if i > 0 else 0 for i in y])  # renamed y to y_ to avoid confusion\n",
    "\n",
    "        for _ in range(self.n_iterations):\n",
    "            for idx, x_i in enumerate(X):\n",
    "                net_input = np.dot(x_i, self.weights) + self.bias\n",
    "                y_predicted = self.activation_function(net_input)\n",
    "                update = self.learning_rate * (y_[idx] - y_predicted)\n",
    "                self.weights += update * x_i  # corrected: self.weights, not self_weights\n",
    "                self.bias += update\n",
    "\n",
    "    def activation_function(self, x):\n",
    "        return np.where(x >= 0, 1, 0)\n",
    "\n",
    "    def predict(self, X):\n",
    "        net_input = np.dot(X, self.weights) + self.bias  # corrected: X, not x_self\n",
    "        y_predicted = self.activation_function(net_input)\n",
    "        return y_predicted\n",
    "\n",
    "# Training data: OR logic gate\n",
    "X = np.array([[0, 0], [0, 1], [1, 0], [1, 1]])\n",
    "y = np.array([0, 1, 1, 1])\n",
    "\n",
    "# Instantiate and train the perceptron\n",
    "perceptron = Perceptron(learning_rate=0.01, n_iterations=3)\n",
    "perceptron.fit(X, y)\n",
    "\n",
    "# Make predictions\n",
    "predictions = perceptron.predict(X)\n",
    "print(predictions)"
   ]
  },
  {
   "cell_type": "code",
   "execution_count": 7,
   "id": "4366dbc3-f81e-4396-bfc7-87e720e67208",
   "metadata": {},
   "outputs": [
    {
     "name": "stdout",
     "output_type": "stream",
     "text": [
      "Predictions: [0 1 1 1]\n"
     ]
    }
   ],
   "source": [
    "import numpy as np\n",
    "\n",
    "class Perceptron:\n",
    "    def __init__(self, learning_rate=0.01, n_iterations=3):  # Fixed __init__\n",
    "        self.learning_rate = learning_rate\n",
    "        self.n_iterations = n_iterations\n",
    "        self.weights = None\n",
    "        self.bias = None\n",
    "\n",
    "    def fit(self, x, y):\n",
    "        n_samples, n_features = x.shape\n",
    "        self.weights = np.zeros(n_features)\n",
    "        self.bias = 0\n",
    "\n",
    "        # Ensure y contains only 0 or 1\n",
    "        y = np.array([1 if i > 0 else 0 for i in y])\n",
    "\n",
    "        for _ in range(self.n_iterations):\n",
    "            for idx, x_i in enumerate(x):\n",
    "                net_input = np.dot(x_i, self.weights) + self.bias\n",
    "                y_predicted = self.activation_function(net_input)\n",
    "                update = self.learning_rate * (y[idx] - y_predicted)\n",
    "                self.weights += update * x_i\n",
    "                self.bias += update\n",
    "\n",
    "    def activation_function(self, x):\n",
    "        return np.where(x >= 0, 1, 0)\n",
    "\n",
    "    def predict(self, x):\n",
    "        net_input = np.dot(x, self.weights) + self.bias\n",
    "        y_predicted = self.activation_function(net_input)\n",
    "        return y_predicted\n",
    "\n",
    "# Dataset: OR gate\n",
    "x = np.array([[0,0],[0,1],[1,0],[1,1]])\n",
    "y = np.array([0,1,1,1])\n",
    "\n",
    "# Create and train the perceptron\n",
    "perceptron = Perceptron(learning_rate=0.01, n_iterations=10)\n",
    "perceptron.fit(x, y)\n",
    "\n",
    "# Make predictions\n",
    "predictions = perceptron.predict(x)\n",
    "print(\"Predictions:\", predictions)\n"
   ]
  },
  {
   "cell_type": "code",
   "execution_count": null,
   "id": "2a470fde-6e6b-4cd6-9228-f839aaa27513",
   "metadata": {},
   "outputs": [],
   "source": []
  }
 ],
 "metadata": {
  "kernelspec": {
   "display_name": "Python [conda env:base] *",
   "language": "python",
   "name": "conda-base-py"
  },
  "language_info": {
   "codemirror_mode": {
    "name": "ipython",
    "version": 3
   },
   "file_extension": ".py",
   "mimetype": "text/x-python",
   "name": "python",
   "nbconvert_exporter": "python",
   "pygments_lexer": "ipython3",
   "version": "3.12.7"
  }
 },
 "nbformat": 4,
 "nbformat_minor": 5
}
