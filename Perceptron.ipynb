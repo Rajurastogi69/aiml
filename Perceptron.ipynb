{
 "cells": [
  {
   "cell_type": "markdown",
   "id": "8cb9cadb",
   "metadata": {},
   "source": [
    "# Implement Perceptron Algorithm"
   ]
  },
  {
   "cell_type": "code",
   "execution_count": 6,
   "id": "ff21173d",
   "metadata": {},
   "outputs": [
    {
     "ename": "TypeError",
     "evalue": "Perceptron() takes no arguments",
     "output_type": "error",
     "traceback": [
      "\u001b[1;31m---------------------------------------------------------------------------\u001b[0m",
      "\u001b[1;31mTypeError\u001b[0m                                 Traceback (most recent call last)",
      "Input \u001b[1;32mIn [6]\u001b[0m, in \u001b[0;36m<cell line: 29>\u001b[1;34m()\u001b[0m\n\u001b[0;32m     26\u001b[0m x\u001b[38;5;241m=\u001b[39mnp\u001b[38;5;241m.\u001b[39marray([[\u001b[38;5;241m0\u001b[39m,\u001b[38;5;241m0\u001b[39m],[\u001b[38;5;241m0\u001b[39m,\u001b[38;5;241m1\u001b[39m],[\u001b[38;5;241m1\u001b[39m,\u001b[38;5;241m0\u001b[39m],[\u001b[38;5;241m1\u001b[39m,\u001b[38;5;241m1\u001b[39m]])\n\u001b[0;32m     27\u001b[0m y\u001b[38;5;241m=\u001b[39mnp\u001b[38;5;241m.\u001b[39marray([\u001b[38;5;241m0\u001b[39m,\u001b[38;5;241m1\u001b[39m,\u001b[38;5;241m1\u001b[39m,\u001b[38;5;241m1\u001b[39m])\n\u001b[1;32m---> 29\u001b[0m perceptron\u001b[38;5;241m=\u001b[39m\u001b[43mPerceptron\u001b[49m\u001b[43m(\u001b[49m\u001b[43mlearning_rate\u001b[49m\u001b[38;5;241;43m=\u001b[39;49m\u001b[38;5;241;43m0.01\u001b[39;49m\u001b[43m,\u001b[49m\u001b[43mn_iterations\u001b[49m\u001b[38;5;241;43m=\u001b[39;49m\u001b[38;5;241;43m3\u001b[39;49m\u001b[43m)\u001b[49m\n\u001b[0;32m     30\u001b[0m perceptron\u001b[38;5;241m.\u001b[39mfit(x,y)\n\u001b[0;32m     31\u001b[0m predictions\u001b[38;5;241m=\u001b[39mperceptron\u001b[38;5;241m.\u001b[39mpredict(x)\n",
      "\u001b[1;31mTypeError\u001b[0m: Perceptron() takes no arguments"
     ]
    }
   ],
   "source": [
    "import numpy as np\n",
    "class Perceptron:\n",
    "    def _init_(self,learning_rate=0.01,n_iterations=3):\n",
    "        self.learning_rate=learning_rate\n",
    "        self.n_iterations=n_iterations\n",
    "        self.weights=None\n",
    "        self.bias=None\n",
    "    def fit(self,x,y):\n",
    "        n_samples,n_features=x.shape\n",
    "        self.weights=np.zeros(n_features)\n",
    "        self.bias=0\n",
    "        y=np.array([1 if i>0 else 0 for i in y ])\n",
    "        for _ in range(self.n_iterations):\n",
    "            for idx,i in enumerate(x):\n",
    "                net_input=np.dot(x_i,self.weights)+self.bias\n",
    "                y_predicted=self.activation_function(net_input)\n",
    "                update=self.learning_rate*(Y_[idx]-y_predicted)\n",
    "                self_weights+=update*x_i\n",
    "                self.bias=update\n",
    "    def activation_function(self,x):\n",
    "        return np.where(x>=0,1,0)\n",
    "    def predict(self,x):\n",
    "        net_input=np.dot(x_self.weights)+self.bias\n",
    "        y_predicted=self.activation_function(net_input)\n",
    "        return y_predicted\n",
    "x=np.array([[0,0],[0,1],[1,0],[1,1]])\n",
    "y=np.array([0,1,1,1])\n",
    "\n",
    "perceptron=Perceptron(learning_rate=0.01,n_iterations=3)\n",
    "perceptron.fit(x,y)\n",
    "predictions=perceptron.predict(x)\n",
    "predictions"
   ]
  },
  {
   "cell_type": "code",
   "execution_count": 7,
   "id": "7d51aa13",
   "metadata": {},
   "outputs": [
    {
     "name": "stdout",
     "output_type": "stream",
     "text": [
      "[0 1 1 1]\n"
     ]
    }
   ],
   "source": [
    "import numpy as np\n",
    "\n",
    "class Perceptron:\n",
    "    def __init__(self, learning_rate=0.01, n_iterations=3):  # corrected: __init__\n",
    "        self.learning_rate = learning_rate\n",
    "        self.n_iterations = n_iterations\n",
    "        self.weights = None\n",
    "        self.bias = None\n",
    "\n",
    "    def fit(self, X, y):\n",
    "        n_samples, n_features = X.shape\n",
    "        self.weights = np.zeros(n_features)\n",
    "        self.bias = 0\n",
    "\n",
    "        y_ = np.array([1 if i > 0 else 0 for i in y])  # renamed y to y_ to avoid confusion\n",
    "\n",
    "        for _ in range(self.n_iterations):\n",
    "            for idx, x_i in enumerate(X):\n",
    "                net_input = np.dot(x_i, self.weights) + self.bias\n",
    "                y_predicted = self.activation_function(net_input)\n",
    "                update = self.learning_rate * (y_[idx] - y_predicted)\n",
    "                self.weights += update * x_i  # corrected: self.weights, not self_weights\n",
    "                self.bias += update\n",
    "\n",
    "    def activation_function(self, x):\n",
    "        return np.where(x >= 0, 1, 0)\n",
    "\n",
    "    def predict(self, X):\n",
    "        net_input = np.dot(X, self.weights) + self.bias  # corrected: X, not x_self\n",
    "        y_predicted = self.activation_function(net_input)\n",
    "        return y_predicted\n",
    "\n",
    "# Training data: OR logic gate\n",
    "X = np.array([[0, 0], [0, 1], [1, 0], [1, 1]])\n",
    "y = np.array([0, 1, 1, 1])\n",
    "\n",
    "# Instantiate and train the perceptron\n",
    "perceptron = Perceptron(learning_rate=0.01, n_iterations=3)\n",
    "perceptron.fit(X, y)\n",
    "\n",
    "# Make predictions\n",
    "predictions = perceptron.predict(X)\n",
    "print(predictions)\n"
   ]
  },
  {
   "cell_type": "code",
   "execution_count": null,
   "id": "1035bcae",
   "metadata": {},
   "outputs": [],
   "source": []
  }
 ],
 "metadata": {
  "kernelspec": {
   "display_name": "Python 3 (ipykernel)",
   "language": "python",
   "name": "python3"
  },
  "language_info": {
   "codemirror_mode": {
    "name": "ipython",
    "version": 3
   },
   "file_extension": ".py",
   "mimetype": "text/x-python",
   "name": "python",
   "nbconvert_exporter": "python",
   "pygments_lexer": "ipython3",
   "version": "3.9.12"
  }
 },
 "nbformat": 4,
 "nbformat_minor": 5
}
