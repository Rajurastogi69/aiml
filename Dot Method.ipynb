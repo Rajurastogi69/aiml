{
 "cells": [
  {
   "cell_type": "code",
   "execution_count": 1,
   "id": "40b340a4-4ff7-403e-98eb-b56bc2684dee",
   "metadata": {},
   "outputs": [],
   "source": [
    "# DOT METHOD"
   ]
  },
  {
   "cell_type": "code",
   "execution_count": 2,
   "id": "33aaf148-065e-4c2d-a86d-532944e82f14",
   "metadata": {},
   "outputs": [],
   "source": [
    "import numpy as np"
   ]
  },
  {
   "cell_type": "code",
   "execution_count": 3,
   "id": "f7ff716c-e345-4ee7-8b1b-2586b900a9c7",
   "metadata": {},
   "outputs": [],
   "source": [
    "a = np.array([[2,3],[4,5]])\n",
    "b = np.array([[6,5],[4,8]])"
   ]
  },
  {
   "cell_type": "code",
   "execution_count": 4,
   "id": "308383d5-b49e-4ab5-b16d-3b9c3f0e508a",
   "metadata": {},
   "outputs": [],
   "source": [
    "prod = np.dot(a,b)"
   ]
  },
  {
   "cell_type": "code",
   "execution_count": 5,
   "id": "f756ee26-c94c-4faa-9c59-6dd4dfd33e66",
   "metadata": {},
   "outputs": [
    {
     "data": {
      "text/plain": [
       "array([[24, 34],\n",
       "       [44, 60]])"
      ]
     },
     "execution_count": 5,
     "metadata": {},
     "output_type": "execute_result"
    }
   ],
   "source": [
    "prod"
   ]
  },
  {
   "cell_type": "code",
   "execution_count": 6,
   "id": "d71e5846-f653-46f0-98df-3b2dc0bb3a71",
   "metadata": {},
   "outputs": [],
   "source": [
    "# print() and print(f\"\")"
   ]
  },
  {
   "cell_type": "code",
   "execution_count": 7,
   "id": "9938d240-f2e3-4ccb-9a67-e97e2df25364",
   "metadata": {},
   "outputs": [
    {
     "name": "stdout",
     "output_type": "stream",
     "text": [
      "alpine got 45 in aiml\n"
     ]
    }
   ],
   "source": [
    "aiml = 45\n",
    "mfcs = 46\n",
    "print(\"alpine got\",aiml,\"in aiml\")"
   ]
  },
  {
   "cell_type": "code",
   "execution_count": 8,
   "id": "2ebe8f3c-795a-4492-a31e-f67f322b60e8",
   "metadata": {},
   "outputs": [
    {
     "name": "stdout",
     "output_type": "stream",
     "text": [
      "Sanean got 46 in mfcs\n"
     ]
    }
   ],
   "source": [
    "print(f\"Sanean got {mfcs} in mfcs\")"
   ]
  },
  {
   "cell_type": "code",
   "execution_count": 9,
   "id": "03a02580-ec9d-427c-a4bb-c0dc524e5f9a",
   "metadata": {},
   "outputs": [],
   "source": [
    "# function"
   ]
  },
  {
   "cell_type": "code",
   "execution_count": 10,
   "id": "7271d287-e63a-4e1e-8d5c-937e615a8e69",
   "metadata": {},
   "outputs": [],
   "source": [
    "def hello():\n",
    "    print(\"Today is a good day\")"
   ]
  },
  {
   "cell_type": "code",
   "execution_count": 11,
   "id": "92ddca03-fe98-4159-bd64-d5b5687e91df",
   "metadata": {},
   "outputs": [
    {
     "name": "stdout",
     "output_type": "stream",
     "text": [
      "Today is a good day\n"
     ]
    }
   ],
   "source": [
    "hello()"
   ]
  },
  {
   "cell_type": "code",
   "execution_count": 12,
   "id": "b5f2981e-7fef-4012-b313-2345a73a3050",
   "metadata": {},
   "outputs": [],
   "source": [
    "def func(x):\n",
    "    if(x%2==0):\n",
    "        print(\"EVEN\")\n",
    "    else:\n",
    "        print(\"ODD\")"
   ]
  },
  {
   "cell_type": "code",
   "execution_count": 13,
   "id": "f8bddb03-4cca-4738-bf3e-3f29a6e19bd3",
   "metadata": {},
   "outputs": [
    {
     "name": "stdout",
     "output_type": "stream",
     "text": [
      "EVEN\n"
     ]
    }
   ],
   "source": [
    "func(4)"
   ]
  },
  {
   "cell_type": "code",
   "execution_count": 14,
   "id": "ad344427-30f7-4bea-a255-a4660679e408",
   "metadata": {},
   "outputs": [
    {
     "name": "stdout",
     "output_type": "stream",
     "text": [
      "ODD\n"
     ]
    }
   ],
   "source": [
    "func(7)"
   ]
  },
  {
   "cell_type": "code",
   "execution_count": 15,
   "id": "4fceea85-bb13-49b7-bad5-771423259d5c",
   "metadata": {},
   "outputs": [],
   "source": [
    "# for loop"
   ]
  },
  {
   "cell_type": "code",
   "execution_count": 16,
   "id": "40c58784-243f-4337-8f9f-76328390591f",
   "metadata": {},
   "outputs": [
    {
     "name": "stdout",
     "output_type": "stream",
     "text": [
      "Adnan\n",
      "Khan\n",
      "MCA\n"
     ]
    }
   ],
   "source": [
    "stud = [\"Adnan\",\"Khan\",\"MCA\"]\n",
    "for x in stud:\n",
    "    print (x)"
   ]
  },
  {
   "cell_type": "code",
   "execution_count": 17,
   "id": "c5356897-d68c-4180-93a0-635541bd54a4",
   "metadata": {},
   "outputs": [
    {
     "name": "stdout",
     "output_type": "stream",
     "text": [
      "M\n",
      "u\n",
      "m\n",
      "b\n",
      "a\n",
      "i\n"
     ]
    }
   ],
   "source": [
    "for x in \"Mumbai\":\n",
    "    print(x)"
   ]
  },
  {
   "cell_type": "code",
   "execution_count": 18,
   "id": "95f4974f-2bc2-40ee-99b7-726bc2b887e2",
   "metadata": {},
   "outputs": [
    {
     "name": "stdout",
     "output_type": "stream",
     "text": [
      "0\n",
      "1\n",
      "2\n",
      "3\n",
      "4\n",
      "5\n",
      "6\n"
     ]
    }
   ],
   "source": [
    "for x in range(7):\n",
    "    print(x)"
   ]
  },
  {
   "cell_type": "code",
   "execution_count": 19,
   "id": "03e5539b-ba38-4543-95f7-57590bfe3e59",
   "metadata": {},
   "outputs": [],
   "source": [
    "# class"
   ]
  },
  {
   "cell_type": "code",
   "execution_count": 20,
   "id": "b875e940-a03c-4fbc-b066-0fa8699f9326",
   "metadata": {},
   "outputs": [],
   "source": [
    "class Stud:\n",
    "    def __init__(self,name,roll):\n",
    "    #in python init method is a special method that initialize objects when a class is instantiated \n",
    "    #it is similar to constructor in other programming languages If use the self keyword to assign values to object attributes\n",
    "        self.name = name\n",
    "        self.roll = roll"
   ]
  },
  {
   "cell_type": "code",
   "execution_count": 21,
   "id": "40cce75a-a7ec-41c7-9145-42d98d0d5018",
   "metadata": {},
   "outputs": [
    {
     "name": "stdout",
     "output_type": "stream",
     "text": [
      "Adnan\n",
      "42\n"
     ]
    }
   ],
   "source": [
    "s1 = Stud(\"Adnan\",42)\n",
    "print(s1.name)\n",
    "print(s1.roll)"
   ]
  },
  {
   "cell_type": "code",
   "execution_count": 22,
   "id": "0f59bf38-7cb7-42e8-ac6c-ad7e3726480a",
   "metadata": {},
   "outputs": [],
   "source": [
    "# Enumerate()"
   ]
  },
  {
   "cell_type": "code",
   "execution_count": 23,
   "id": "068262ae-211e-46dd-b584-4b9c3fa05672",
   "metadata": {},
   "outputs": [],
   "source": [
    "x = ('Ahad','Weds','Saniya')"
   ]
  },
  {
   "cell_type": "code",
   "execution_count": 24,
   "id": "5a1b7000-12f2-49b2-99a5-2eb6bb5f6d4c",
   "metadata": {},
   "outputs": [
    {
     "name": "stdout",
     "output_type": "stream",
     "text": [
      "('Ahad', 'Weds', 'Saniya')\n"
     ]
    }
   ],
   "source": [
    "y = enumerate(x)\n",
    "print(x)"
   ]
  },
  {
   "cell_type": "code",
   "execution_count": 25,
   "id": "4add532f-71bf-498c-a56f-c89f2762a88f",
   "metadata": {},
   "outputs": [
    {
     "name": "stdout",
     "output_type": "stream",
     "text": [
      "Index 0 : Ahad \n",
      "Index 1 : Weds \n",
      "Index 2 : Saniya \n"
     ]
    }
   ],
   "source": [
    "x = ('Ahad','Weds','Saniya')\n",
    "for i, a in enumerate(x):\n",
    "    print(f\"Index {i} : {a} \")"
   ]
  },
  {
   "cell_type": "code",
   "execution_count": 26,
   "id": "29efdada-f02e-42ae-bbdf-419eb4239eb6",
   "metadata": {},
   "outputs": [],
   "source": [
    "# Enumerate method adds a counter to each item in a list\n",
    "# it adds the key of enumerate object"
   ]
  },
  {
   "cell_type": "code",
   "execution_count": 27,
   "id": "ced7d218-284b-4ea6-a6df-46d2528910c1",
   "metadata": {},
   "outputs": [],
   "source": [
    "# Dot method is numpy function that calculates the dot product of 2 arrays"
   ]
  },
  {
   "cell_type": "code",
   "execution_count": null,
   "id": "0a0b57c2-c637-4474-8494-1cf11fe8dfc5",
   "metadata": {},
   "outputs": [],
   "source": []
  }
 ],
 "metadata": {
  "kernelspec": {
   "display_name": "Python 3 (ipykernel)",
   "language": "python",
   "name": "python3"
  },
  "language_info": {
   "codemirror_mode": {
    "name": "ipython",
    "version": 3
   },
   "file_extension": ".py",
   "mimetype": "text/x-python",
   "name": "python",
   "nbconvert_exporter": "python",
   "pygments_lexer": "ipython3",
   "version": "3.9.12"
  }
 },
 "nbformat": 4,
 "nbformat_minor": 5
}
